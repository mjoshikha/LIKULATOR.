{
  "nbformat": 4,
  "nbformat_minor": 0,
  "metadata": {
    "colab": {
      "name": "LIKULATOR..ipynb",
      "provenance": [],
      "collapsed_sections": []
    },
    "kernelspec": {
      "name": "python3",
      "display_name": "Python 3"
    }
  },
  "cells": [
    {
      "cell_type": "code",
      "metadata": {
        "id": "4Igo2tWi7l4H"
      },
      "source": [
        "import numpy as np\r\n",
        "import matplotlib.pyplot as plt\r\n",
        "import pandas as pd"
      ],
      "execution_count": 2,
      "outputs": []
    },
    {
      "cell_type": "code",
      "metadata": {
        "id": "oKL96GEX8E7i"
      },
      "source": [
        "dataset = pd.read_csv('postlikes.csv')"
      ],
      "execution_count": 3,
      "outputs": []
    },
    {
      "cell_type": "code",
      "metadata": {
        "id": "EX-5Oiba8KeK"
      },
      "source": [
        "import math\r\n",
        "N = 10000\r\n",
        "d = 10\r\n",
        "posts_liked = []\r\n",
        "numbers_of_likes = [0] * d\r\n",
        "sums_of_rewards = [0] * d\r\n",
        "total_reward = 0\r\n",
        "for n in range(0, N):\r\n",
        "  post = 0\r\n",
        "  max_upper_bound = 0\r\n",
        "  for i in range(0, d):\r\n",
        "    if (numbers_of_likes[i] > 0):\r\n",
        "      average_reward = sums_of_rewards[i] / numbers_of_likes[i]\r\n",
        "      delta_i = math.sqrt(3/2 * math.log(n + 1) / numbers_of_likes[i])\r\n",
        "      upper_bound = average_reward + delta_i\r\n",
        "    else:\r\n",
        "      upper_bound = 1e400\r\n",
        "    if (upper_bound > max_upper_bound):\r\n",
        "      max_upper_bound = upper_bound\r\n",
        "      post = i\r\n",
        "  posts_liked.append(post)\r\n",
        "  numbers_of_likes[post] = numbers_of_likes[post] + 1\r\n",
        "  reward = dataset.values[n, post]\r\n",
        "  sums_of_rewards[post] = sums_of_rewards[post] + reward\r\n",
        "  total_reward = total_reward + reward"
      ],
      "execution_count": 4,
      "outputs": []
    },
    {
      "cell_type": "code",
      "metadata": {
        "colab": {
          "base_uri": "https://localhost:8080/",
          "height": 295
        },
        "id": "4wAsf-3C8LiM",
        "outputId": "9ce27400-4330-44ed-f913-9477e82ac222"
      },
      "source": [
        "plt.hist(posts_liked)\r\n",
        "plt.xticks(np.arange(0, 10, 1))\r\n",
        "plt.title('Histogram of Posts Liked')\r\n",
        "plt.xlabel('Posts')\r\n",
        "plt.ylabel('Number of times each Post was Liked')\r\n",
        "plt.show()"
      ],
      "execution_count": 5,
      "outputs": [
        {
          "output_type": "display_data",
          "data": {
            "image/png": "[encoded data removed]",
            "text/plain": [
              "<Figure size 432x288 with 1 Axes>"
            ]
          },
          "metadata": {
            "tags": [],
            "needs_background": "light"
          }
        }
      ]
    },
    {
      "cell_type": "code",
      "metadata": {
        "id": "Wu3lP3MDGPN4"
      },
      "source": [
        "dataset2 = pd.read_csv('postcomments.tsv', delimiter = '\\t', quoting = 3)"
      ],
      "execution_count": 6,
      "outputs": []
    },
    {
      "cell_type": "code",
      "metadata": {
        "colab": {
          "base_uri": "https://localhost:8080/"
        },
        "id": "e2RH7nZsGu5k",
        "outputId": "1fc16a3f-770c-4d13-c67a-bc32353b6d02"
      },
      "source": [
        "import re\r\n",
        "import nltk\r\n",
        "nltk.download('stopwords')\r\n",
        "from nltk.corpus import stopwords\r\n",
        "from nltk.stem.porter import PorterStemmer\r\n",
        "corpus = []\r\n",
        "for i in range(0, 1000):\r\n",
        "  review = re.sub('[^a-zA-Z]', ' ', dataset2['Review'][i])\r\n",
        "  review = review.lower()\r\n",
        "  review = review.split()\r\n",
        "  ps = PorterStemmer()\r\n",
        "  all_stopwords = stopwords.words('english')\r\n",
        "  all_stopwords.remove('not')\r\n",
        "  review = [ps.stem(word) for word in review if not word in set(all_stopwords)]\r\n",
        "  review = ' '.join(review)\r\n",
        "  corpus.append(review)"
      ],
      "execution_count": 7,
      "outputs": [
        {
          "output_type": "stream",
          "text": [
            "[nltk_data] Downloading package stopwords to /root/nltk_data...\n",
            "[nltk_data]   Unzipping corpora/stopwords.zip.\n"
          ],
          "name": "stdout"
        }
      ]
    },
    {
      "cell_type": "code",
      "metadata": {
        "id": "lfiqblcIGzEU"
      },
      "source": [
        "from sklearn.feature_extraction.text import CountVectorizer\r\n",
        "cv = CountVectorizer(max_features = 1500)\r\n",
        "X = cv.fit_transform(corpus).toarray()\r\n",
        "y = dataset2.iloc[:, -1].values"
      ],
      "execution_count": 8,
      "outputs": []
    },
    {
      "cell_type": "code",
      "metadata": {
        "id": "r_VeB4y0G2uy"
      },
      "source": [
        "from sklearn.model_selection import train_test_split\r\n",
        "X_train, X_test, y_train, y_test = train_test_split(X, y, test_size = 0.20, random_state = 0)"
      ],
      "execution_count": 9,
      "outputs": []
    },
    {
      "cell_type": "code",
      "metadata": {
        "colab": {
          "base_uri": "https://localhost:8080/"
        },
        "id": "EQ7xPSE8G7gf",
        "outputId": "aefb991b-207d-4188-a9a4-40e1a3355b35"
      },
      "source": [
        "from sklearn.svm import SVC\r\n",
        "classifier = SVC(kernel = 'linear', random_state = 0)\r\n",
        "classifier.fit(X_train, y_train)"
      ],
      "execution_count": 10,
      "outputs": [
        {
          "output_type": "execute_result",
          "data": {
            "text/plain": [
              "SVC(C=1.0, break_ties=False, cache_size=200, class_weight=None, coef0=0.0,\n",
              "    decision_function_shape='ovr', degree=3, gamma='scale', kernel='linear',\n",
              "    max_iter=-1, probability=False, random_state=0, shrinking=True, tol=0.001,\n",
              "    verbose=False)"
            ]
          },
          "metadata": {
            "tags": []
          },
          "execution_count": 10
        }
      ]
    },
    {
      "cell_type": "code",
      "metadata": {
        "id": "-pBnV-saG_Hc"
      },
      "source": [
        "y_pred = classifier.predict(X_test)"
      ],
      "execution_count": 11,
      "outputs": []
    },
    {
      "cell_type": "code",
      "metadata": {
        "colab": {
          "base_uri": "https://localhost:8080/",
          "height": 578
        },
        "id": "TF3kjHEhHC_s",
        "outputId": "72216da7-f28e-479a-e1c7-ac8c6fc95802"
      },
      "source": [
        "from sklearn.metrics import confusion_matrix, accuracy_score\r\n",
        "cm = confusion_matrix(y_test, y_pred)\r\n",
        "print('Confusion Matrix :')\r\n",
        "fig, ax = plt.subplots(figsize=(6, 6))\r\n",
        "ax.imshow(cm)\r\n",
        "ax.grid(False)\r\n",
        "ax.xaxis.set(ticks=(0, 1), ticklabels=('Predicted Positive Comments', 'Predicted Negative comments'))\r\n",
        "ax.yaxis.set(ticks=(0, 1), ticklabels=('Actual Positive Comments', 'Actual Negative Comments'))\r\n",
        "for i in range(2):\r\n",
        "    for j in range(2):\r\n",
        "        ax.text(j, i, cm[i, j], ha='center', va='center', color='red')\r\n",
        "plt.show()\r\n",
        "from sklearn.metrics import classification_report\r\n",
        "print('Classification Report: ')\r\n",
        "print(classification_report(y_test, y_pred))\r\n",
        "print('Accuracy Rate: ',accuracy_score(y_test, y_pred)*100,'%')"
      ],
      "execution_count": 12,
      "outputs": [
        {
          "output_type": "stream",
          "text": [
            "Confusion Matrix :\n"
          ],
          "name": "stdout"
        },
        {
          "output_type": "display_data",
          "data": {
            "image/png": "[encoded data removed]",
            "text/plain": [
              "<Figure size 432x432 with 1 Axes>"
            ]
          },
          "metadata": {
            "tags": [],
            "needs_background": "light"
          }
        },
        {
          "output_type": "stream",
          "text": [
            "Classification Report: \n",
            "              precision    recall  f1-score   support\n",
            "\n",
            "           0       0.77      0.81      0.79        97\n",
            "           1       0.81      0.77      0.79       103\n",
            "\n",
            "    accuracy                           0.79       200\n",
            "   macro avg       0.79      0.79      0.79       200\n",
            "weighted avg       0.79      0.79      0.79       200\n",
            "\n",
            "Accuracy Rate:  79.0 %\n"
          ],
          "name": "stdout"
        }
      ]
    },
    {
      "cell_type": "code",
      "metadata": {
        "colab": {
          "base_uri": "https://localhost:8080/",
          "height": 279
        },
        "id": "Bj3LKjVYsEgN",
        "outputId": "46a188e3-5499-4ba5-b6d5-03fbf633188b"
      },
      "source": [
        "from array import array\r\n",
        "res = array(\"i\", y_pred)\r\n",
        "plt.hist(res)\r\n",
        "plt.xticks(np.arange(0, 1.5, 1))\r\n",
        "plt.xlabel('Comments : 0-Negative; 1-Positive')\r\n",
        "plt.ylabel('Number of Comments')\r\n",
        "plt.show()\r\n"
      ],
      "execution_count": 13,
      "outputs": [
        {
          "output_type": "display_data",
          "data": {
            "image/png": "[encoded data removed]",
            "text/plain": [
              "<Figure size 432x288 with 1 Axes>"
            ]
          },
          "metadata": {
            "tags": [],
            "needs_background": "light"
          }
        }
      ]
    },
    {
      "cell_type": "code",
      "metadata": {
        "colab": {
          "base_uri": "https://localhost:8080/"
        },
        "id": "TwsPwdC6d79m",
        "outputId": "c6a40530-c7ab-42a4-d98b-bef3e0c30cd2"
      },
      "source": [
        "from sklearn import metrics\r\n",
        "print(\"Precision:\",metrics.precision_score(y_test, y_pred)*100)\r\n",
        "print(\"Recall:\",metrics.recall_score(y_test, y_pred)*100)"
      ],
      "execution_count": 17,
      "outputs": [
        {
          "output_type": "stream",
          "text": [
            "Precision: 81.44329896907216\n",
            "Recall: 76.69902912621359\n"
          ],
          "name": "stdout"
        }
      ]
    }
  ]
}